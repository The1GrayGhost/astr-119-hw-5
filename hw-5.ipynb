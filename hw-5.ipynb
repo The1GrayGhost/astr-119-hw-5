{
 "cells": [
  {
   "cell_type": "code",
   "execution_count": 2,
   "metadata": {},
   "outputs": [],
   "source": [
    "%matplotlib inline\n",
    "import matplotlib.pyplot as plt\n",
    "import numpy as np"
   ]
  },
  {
   "cell_type": "code",
   "execution_count": 3,
   "metadata": {},
   "outputs": [],
   "source": [
    "def dydx(x,y):\n",
    "    y_derivs=np.zeros(2)\n",
    "    y_derivs[0]=y[1]\n",
    "    y_derivs[1]=-1*y[0]\n",
    "    return y_derivs"
   ]
  },
  {
   "cell_type": "code",
   "execution_count": null,
   "metadata": {},
   "outputs": [],
   "source": [
    "def ck5_mv_core(dydx,xi,yi,nv,h):\n",
    "    \n",
    "    k1=np.zeros(nv)\n",
    "    k2=np.zeros(nv)\n",
    "    k3=np.zeros(nv)\n",
    "    k4=np.zeros(nv)\n",
    "    k5=np.zeros(nv)\n",
    "    k6=np.zeros(nv)\n",
    "    \n",
    "    x_ipoh=xi+0.5*h\n",
    "    x_ipo=xi+h\n",
    "    y_temp=np.zeros(nv)\n",
    "    \n",
    "    A2=.2\n",
    "    A3=.3\n",
    "    A4=.6\n",
    "    A5=1.\n",
    "    A6=.875\n",
    "    B21=.2\n",
    "    B31=3/40.\n",
    "    B32=9./40.\n",
    "    B41=.3\n",
    "    B42-.9\n",
    "    B43=1.2\n",
    "    B51=-11./54.\n",
    "    B52=2.5\n",
    "    B53=-70./27.\n",
    "    B54=35./27.\n",
    "    B61=1631./55296.\n",
    "    B62=175./512.\n",
    "    B63=575./13824.\n",
    "    B64=44275./110592.\n",
    "    B65=253./4096.\n",
    "    C1=37./378.\n",
    "    C3=250./621.\n",
    "    C4=125./594.\n",
    "    C6=512./1771.,\n",
    "    DC1=C1-2825./27648.\n",
    "    DC3=C3-18575./48384.\n",
    "    DC4=C4-13525./55296.\n",
    "    DC5=-277./14336.\n",
    "    DC6=C6-.25\n",
    "    \n",
    "    "
   ]
  }
 ],
 "metadata": {
  "kernelspec": {
   "display_name": "Python 3",
   "language": "python",
   "name": "python3"
  },
  "language_info": {
   "codemirror_mode": {
    "name": "ipython",
    "version": 3
   },
   "file_extension": ".py",
   "mimetype": "text/x-python",
   "name": "python",
   "nbconvert_exporter": "python",
   "pygments_lexer": "ipython3",
   "version": "3.6.5"
  }
 },
 "nbformat": 4,
 "nbformat_minor": 2
}
